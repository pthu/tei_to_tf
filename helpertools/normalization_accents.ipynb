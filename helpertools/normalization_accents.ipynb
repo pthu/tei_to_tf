{
 "cells": [
  {
   "cell_type": "code",
   "execution_count": 8,
   "metadata": {},
   "outputs": [],
   "source": [
    "# This code has been copied from James Tauber with very slight changes!\n",
    "# URL: https://gist.github.com/jtauber/ed07e0fd15ecdc5394755d3e0c9304f8\n",
    "# Date: 03 September 2018\n",
    "\n",
    "import unicodedata\n",
    "\n",
    "VARIA = \"\\u0300\"\n",
    "OXIA = \"\\u0301\"\n",
    "PERISPOMENI = \"\\u0342\"\n",
    "\n",
    "ACCENTS = [VARIA, OXIA, PERISPOMENI]\n",
    "\n",
    "\n",
    "def strip_accents(s):\n",
    "    return unicodedata.normalize(\"NFKC\", \"\".join(\n",
    "        c for c in unicodedata.normalize(\"NFD\", s) if c not in ACCENTS\n",
    "    ))\n",
    "\n",
    "\n",
    "def count_accents(s):\n",
    "    count = 0\n",
    "    for c in unicodedata.normalize(\"NFD\", s):\n",
    "        if c in ACCENTS:\n",
    "            count += 1\n",
    "    return count\n",
    "\n",
    "\n",
    "def strip_last_accent(word):\n",
    "    x = list(word)\n",
    "    for i, ch in enumerate(x[::-1]):\n",
    "        s = strip_accents(ch)\n",
    "        if s != ch:\n",
    "            x[-i - 1] = s\n",
    "            break\n",
    "    return \"\".join(x)\n",
    "\n",
    "\n",
    "    # change graves to acutes\n",
    "    temp = \"\"\n",
    "    for ch in unicodedata.normalize(\"NFD\", norm):\n",
    "        if ch == VARIA:\n",
    "            ch = OXIA  # OXIA will be normalized to TONOS below if needed\n",
    "        temp += ch\n",
    "    norm = unicodedata.normalize(\"NFKC\", temp)\n",
    "\n",
    "\n",
    "    # strip last accent if two\n",
    "    if count_accents(norm) == 2:\n",
    "        pre_norm = norm\n",
    "        norm = strip_last_accent(norm)\n",
    "    assert count_accents(norm) == 1, (pre_norm, norm)"
   ]
  },
  {
   "cell_type": "code",
   "execution_count": null,
   "metadata": {},
   "outputs": [],
   "source": []
  }
 ],
 "metadata": {
  "kernelspec": {
   "display_name": "Python 3",
   "language": "python",
   "name": "python3"
  },
  "language_info": {
   "codemirror_mode": {
    "name": "ipython",
    "version": 3
   },
   "file_extension": ".py",
   "mimetype": "text/x-python",
   "name": "python",
   "nbconvert_exporter": "python",
   "pygments_lexer": "ipython3",
   "version": "3.6.6"
  }
 },
 "nbformat": 4,
 "nbformat_minor": 2
}
