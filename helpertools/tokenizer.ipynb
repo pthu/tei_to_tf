{
 "cells": [
  {
   "cell_type": "code",
   "execution_count": 1,
   "metadata": {},
   "outputs": [],
   "source": [
    "import operator\n",
    "from functools import reduce\n",
    "from unicodedata import category, normalize, decomposition, lookup"
   ]
  },
  {
   "cell_type": "code",
   "execution_count": 2,
   "metadata": {},
   "outputs": [],
   "source": [
    "# Definition of unicodedata categories\n",
    "letter = {'L'}\n",
    "dia = {'M'}\n",
    "punc = {'P'}\n",
    "letter_dia = {'L', 'M'}\n",
    "\n",
    "# unicodedata normalize norm\n",
    "udnorm = 'NFD'"
   ]
  },
  {
   "cell_type": "code",
   "execution_count": 3,
   "metadata": {},
   "outputs": [],
   "source": [
    "def splitWord(word, norm=udnorm): \n",
    "    w = normalize(udnorm, word)\n",
    "    tokens = ()\n",
    "    pP = 0\n",
    "    for i in range(len(w)):\n",
    "        if category(w[i])[0] not in letter:\n",
    "            pP += 1\n",
    "        else:\n",
    "            break\n",
    "    pW = pP\n",
    "    for i in range(pP, len(w)):\n",
    "        if category(w[i])[0] in letter_dia:\n",
    "            pW += 1\n",
    "        else:\n",
    "            break\n",
    "    realWord = w[pP:pW]\n",
    "    pA = pW\n",
    "    for i in range(pW, len(w)):\n",
    "        if category(w[i])[0] not in letter:\n",
    "            pA += 1\n",
    "        else:\n",
    "            break\n",
    "    return (realWord,) + (splitWord(w[pA:]) if pA < len(w) else ())\n",
    "\n",
    "\n",
    "def tokenize(sentence, norm=udnorm):\n",
    "    return reduce(\n",
    "        operator.add,\n",
    "        (splitWord(word, norm=udnorm) for word in sentence.strip().split()),\n",
    "        (),\n",
    "    )\n",
    "\n",
    "# def strip_accents(word):\n",
    "#     w_strip = normalize(NFD, word)\n",
    "#     stripped_word = 0\n",
    "#     for i in range(len(w_strip)):\n",
    "#         if category(w_strip[i]) in letter:\n",
    "#             stripped_word += i\n",
    "#         else:\n",
    "#             pass\n",
    "#     return stripped_word\n",
    "\n",
    "def strip_accents(word):\n",
    "    return ''.join(c for c in normalize('NFD', word.lower())\n",
    "                  if category(c)[0] in letter)\n"
   ]
  },
  {
   "cell_type": "code",
   "execution_count": null,
   "metadata": {},
   "outputs": [],
   "source": []
  },
  {
   "cell_type": "code",
   "execution_count": 4,
   "metadata": {},
   "outputs": [],
   "source": [
    "example = '''\n",
    "λέγει αὐτοῖς Τί ζητεῖτε; οἱ δὲ εἶπαν αὐτῷ Ῥαββεί,\n",
    "?̔ὃ λέγεται μεθερμηνευόμενον Διδάσκαλε?̓ ποῦ μένεις; \n",
    "'''\n",
    "example2 = 'αὐτοῖς'"
   ]
  },
  {
   "cell_type": "code",
   "execution_count": 5,
   "metadata": {},
   "outputs": [
    {
     "data": {
      "text/plain": [
       "('λέγει',\n",
       " 'αὐτοῖς',\n",
       " 'Τί',\n",
       " 'ζητεῖτε',\n",
       " 'οἱ',\n",
       " 'δὲ',\n",
       " 'εἶπαν',\n",
       " 'αὐτῷ',\n",
       " 'Ῥαββεί',\n",
       " 'ὃ',\n",
       " 'λέγεται',\n",
       " 'μεθερμηνευόμενον',\n",
       " 'Διδάσκαλε',\n",
       " 'ποῦ',\n",
       " 'μένεις')"
      ]
     },
     "execution_count": 5,
     "metadata": {},
     "output_type": "execute_result"
    }
   ],
   "source": [
    "tokenize(example)"
   ]
  },
  {
   "cell_type": "code",
   "execution_count": 6,
   "metadata": {},
   "outputs": [
    {
     "data": {
      "text/plain": [
       "'αυτοις'"
      ]
     },
     "execution_count": 6,
     "metadata": {},
     "output_type": "execute_result"
    }
   ],
   "source": [
    "strip_accents(example2)"
   ]
  },
  {
   "cell_type": "code",
   "execution_count": 7,
   "metadata": {},
   "outputs": [],
   "source": [
    "contrivedExample = '''\n",
    "λέγει.αὐτοῖς:Τί ζητεῖτε;οἱ δὲ123εἶπαν αὐτῷ Ῥαββεί,\n",
    "?̔ὃ λέγεται μεθερμηνευόμενον Διδάσκαλε?̓ ποῦ μένεις... \n",
    "'''"
   ]
  },
  {
   "cell_type": "code",
   "execution_count": 8,
   "metadata": {},
   "outputs": [
    {
     "data": {
      "text/plain": [
       "('λέγει',\n",
       " 'αὐτοῖς',\n",
       " 'Τί',\n",
       " 'ζητεῖτε',\n",
       " 'οἱ',\n",
       " 'δὲ',\n",
       " 'εἶπαν',\n",
       " 'αὐτῷ',\n",
       " 'Ῥαββεί',\n",
       " 'ὃ',\n",
       " 'λέγεται',\n",
       " 'μεθερμηνευόμενον',\n",
       " 'Διδάσκαλε',\n",
       " 'ποῦ',\n",
       " 'μένεις')"
      ]
     },
     "execution_count": 8,
     "metadata": {},
     "output_type": "execute_result"
    }
   ],
   "source": [
    "tokenize(contrivedExample)"
   ]
  },
  {
   "cell_type": "code",
   "execution_count": 9,
   "metadata": {},
   "outputs": [],
   "source": []
  },
  {
   "cell_type": "code",
   "execution_count": null,
   "metadata": {},
   "outputs": [],
   "source": []
  },
  {
   "cell_type": "code",
   "execution_count": null,
   "metadata": {},
   "outputs": [],
   "source": []
  }
 ],
 "metadata": {
  "kernelspec": {
   "display_name": "Python 3",
   "language": "python",
   "name": "python3"
  },
  "language_info": {
   "codemirror_mode": {
    "name": "ipython",
    "version": 3
   },
   "file_extension": ".py",
   "mimetype": "text/x-python",
   "name": "python",
   "nbconvert_exporter": "python",
   "pygments_lexer": "ipython3",
   "version": "3.6.6"
  }
 },
 "nbformat": 4,
 "nbformat_minor": 2
}
